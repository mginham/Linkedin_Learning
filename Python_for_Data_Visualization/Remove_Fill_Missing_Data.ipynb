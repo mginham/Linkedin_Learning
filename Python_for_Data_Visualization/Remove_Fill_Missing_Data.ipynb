{
 "cells": [
  {
   "cell_type": "markdown",
   "id": "f4ac24b6-1db1-4559-8cf8-1e90b5e646e4",
   "metadata": {},
   "source": [
    "# Remove or Fill Missing Data"
   ]
  },
  {
   "cell_type": "markdown",
   "id": "daf54b10-08c7-47c1-9f34-291882bd66ec",
   "metadata": {},
   "source": [
    "### Load the data"
   ]
  },
  {
   "cell_type": "code",
   "execution_count": 1,
   "id": "2c21dd4d-8810-4790-b070-744cbce41924",
   "metadata": {},
   "outputs": [],
   "source": [
    "import pandas as pd\n",
    "\n",
    "# Create a data frame (load the data from an excel file)\n",
    "filename = 'Ex_Files_Python_for_Data_Vis/Exercise Files/Pandas/data/car_financing.xlsx'\n",
    "df = pd.read_excel(filename)"
   ]
  },
  {
   "cell_type": "code",
   "execution_count": 2,
   "id": "a249e16d-7be0-4b34-b99c-d4d1eedbe358",
   "metadata": {},
   "outputs": [
    {
     "data": {
      "text/html": [
       "<div>\n",
       "<style scoped>\n",
       "    .dataframe tbody tr th:only-of-type {\n",
       "        vertical-align: middle;\n",
       "    }\n",
       "\n",
       "    .dataframe tbody tr th {\n",
       "        vertical-align: top;\n",
       "    }\n",
       "\n",
       "    .dataframe thead th {\n",
       "        text-align: right;\n",
       "    }\n",
       "</style>\n",
       "<table border=\"1\" class=\"dataframe\">\n",
       "  <thead>\n",
       "    <tr style=\"text-align: right;\">\n",
       "      <th></th>\n",
       "      <th>Month</th>\n",
       "      <th>Starting Balance</th>\n",
       "      <th>Repayment</th>\n",
       "      <th>Interest Paid</th>\n",
       "      <th>Principal Paid</th>\n",
       "      <th>New Balance</th>\n",
       "      <th>term</th>\n",
       "      <th>interest_rate</th>\n",
       "      <th>car_type</th>\n",
       "    </tr>\n",
       "  </thead>\n",
       "  <tbody>\n",
       "    <tr>\n",
       "      <th>0</th>\n",
       "      <td>1</td>\n",
       "      <td>34689.96</td>\n",
       "      <td>687.23</td>\n",
       "      <td>202.93</td>\n",
       "      <td>484.30</td>\n",
       "      <td>34205.66</td>\n",
       "      <td>60</td>\n",
       "      <td>0.0702</td>\n",
       "      <td>Toyota Sienna</td>\n",
       "    </tr>\n",
       "    <tr>\n",
       "      <th>1</th>\n",
       "      <td>2</td>\n",
       "      <td>34205.66</td>\n",
       "      <td>687.23</td>\n",
       "      <td>200.10</td>\n",
       "      <td>487.13</td>\n",
       "      <td>33718.53</td>\n",
       "      <td>60</td>\n",
       "      <td>0.0702</td>\n",
       "      <td>Toyota Sienna</td>\n",
       "    </tr>\n",
       "    <tr>\n",
       "      <th>2</th>\n",
       "      <td>3</td>\n",
       "      <td>33718.53</td>\n",
       "      <td>687.23</td>\n",
       "      <td>197.25</td>\n",
       "      <td>489.98</td>\n",
       "      <td>33228.55</td>\n",
       "      <td>60</td>\n",
       "      <td>0.0702</td>\n",
       "      <td>Toyota Sienna</td>\n",
       "    </tr>\n",
       "    <tr>\n",
       "      <th>3</th>\n",
       "      <td>4</td>\n",
       "      <td>33228.55</td>\n",
       "      <td>687.23</td>\n",
       "      <td>194.38</td>\n",
       "      <td>492.85</td>\n",
       "      <td>32735.70</td>\n",
       "      <td>60</td>\n",
       "      <td>0.0702</td>\n",
       "      <td>Toyota Sienna</td>\n",
       "    </tr>\n",
       "    <tr>\n",
       "      <th>4</th>\n",
       "      <td>5</td>\n",
       "      <td>32735.70</td>\n",
       "      <td>687.23</td>\n",
       "      <td>191.50</td>\n",
       "      <td>495.73</td>\n",
       "      <td>32239.97</td>\n",
       "      <td>60</td>\n",
       "      <td>0.0702</td>\n",
       "      <td>Toyota Sienna</td>\n",
       "    </tr>\n",
       "  </tbody>\n",
       "</table>\n",
       "</div>"
      ],
      "text/plain": [
       "   Month  Starting Balance  Repayment  Interest Paid  Principal Paid  \\\n",
       "0      1          34689.96     687.23         202.93          484.30   \n",
       "1      2          34205.66     687.23         200.10          487.13   \n",
       "2      3          33718.53     687.23         197.25          489.98   \n",
       "3      4          33228.55     687.23         194.38          492.85   \n",
       "4      5          32735.70     687.23         191.50          495.73   \n",
       "\n",
       "   New Balance  term  interest_rate       car_type  \n",
       "0     34205.66    60         0.0702  Toyota Sienna  \n",
       "1     33718.53    60         0.0702  Toyota Sienna  \n",
       "2     33228.55    60         0.0702  Toyota Sienna  \n",
       "3     32735.70    60         0.0702  Toyota Sienna  \n",
       "4     32239.97    60         0.0702  Toyota Sienna  "
      ]
     },
     "execution_count": 2,
     "metadata": {},
     "output_type": "execute_result"
    }
   ],
   "source": [
    "# Check the first few rows of data\n",
    "df.head()"
   ]
  },
  {
   "cell_type": "code",
   "execution_count": 3,
   "id": "d6870af4-216e-421f-80f0-f909f5f5dfd9",
   "metadata": {},
   "outputs": [],
   "source": [
    "# Create and apply filters to the data frame\n",
    "car_filter = df['car_type'] == 'Toyota Sienna'\n",
    "interest_filter = df['interest_rate'] == 0.0702\n",
    "df = df.loc[car_filter & interest_filter, :]"
   ]
  },
  {
   "cell_type": "markdown",
   "id": "90e512df-2eb4-4739-9b55-f3ade1442c30",
   "metadata": {},
   "source": [
    "### Remove missing data"
   ]
  },
  {
   "cell_type": "code",
   "execution_count": 4,
   "id": "eb79d3b5-b875-4c4e-9b99-87a156a4c646",
   "metadata": {},
   "outputs": [
    {
     "name": "stdout",
     "output_type": "stream",
     "text": [
      "<class 'pandas.core.frame.DataFrame'>\n",
      "Index: 60 entries, 0 to 59\n",
      "Data columns (total 9 columns):\n",
      " #   Column            Non-Null Count  Dtype  \n",
      "---  ------            --------------  -----  \n",
      " 0   Month             60 non-null     int64  \n",
      " 1   Starting Balance  60 non-null     float64\n",
      " 2   Repayment         60 non-null     float64\n",
      " 3   Interest Paid     59 non-null     float64\n",
      " 4   Principal Paid    60 non-null     float64\n",
      " 5   New Balance       60 non-null     float64\n",
      " 6   term              60 non-null     int64  \n",
      " 7   interest_rate     60 non-null     float64\n",
      " 8   car_type          60 non-null     object \n",
      "dtypes: float64(6), int64(2), object(1)\n",
      "memory usage: 4.7+ KB\n"
     ]
    }
   ],
   "source": [
    "# Discover null values\n",
    "#   - In this case, there is one null value in the \"Interest Paid\" column\n",
    "df.info()"
   ]
  },
  {
   "cell_type": "code",
   "execution_count": 5,
   "id": "cea6f146-8891-4c98-9c9d-bb8b944d54ce",
   "metadata": {},
   "outputs": [
    {
     "data": {
      "text/html": [
       "<div>\n",
       "<style scoped>\n",
       "    .dataframe tbody tr th:only-of-type {\n",
       "        vertical-align: middle;\n",
       "    }\n",
       "\n",
       "    .dataframe tbody tr th {\n",
       "        vertical-align: top;\n",
       "    }\n",
       "\n",
       "    .dataframe thead th {\n",
       "        text-align: right;\n",
       "    }\n",
       "</style>\n",
       "<table border=\"1\" class=\"dataframe\">\n",
       "  <thead>\n",
       "    <tr style=\"text-align: right;\">\n",
       "      <th></th>\n",
       "      <th>Month</th>\n",
       "      <th>Starting Balance</th>\n",
       "      <th>Repayment</th>\n",
       "      <th>Interest Paid</th>\n",
       "      <th>Principal Paid</th>\n",
       "      <th>New Balance</th>\n",
       "      <th>term</th>\n",
       "      <th>interest_rate</th>\n",
       "      <th>car_type</th>\n",
       "    </tr>\n",
       "  </thead>\n",
       "  <tbody>\n",
       "    <tr>\n",
       "      <th>30</th>\n",
       "      <td>31</td>\n",
       "      <td>18858.57</td>\n",
       "      <td>687.23</td>\n",
       "      <td>110.32</td>\n",
       "      <td>576.91</td>\n",
       "      <td>18281.66</td>\n",
       "      <td>60</td>\n",
       "      <td>0.0702</td>\n",
       "      <td>Toyota Sienna</td>\n",
       "    </tr>\n",
       "    <tr>\n",
       "      <th>31</th>\n",
       "      <td>32</td>\n",
       "      <td>18281.66</td>\n",
       "      <td>687.23</td>\n",
       "      <td>106.94</td>\n",
       "      <td>580.29</td>\n",
       "      <td>17701.37</td>\n",
       "      <td>60</td>\n",
       "      <td>0.0702</td>\n",
       "      <td>Toyota Sienna</td>\n",
       "    </tr>\n",
       "    <tr>\n",
       "      <th>32</th>\n",
       "      <td>33</td>\n",
       "      <td>17701.37</td>\n",
       "      <td>687.23</td>\n",
       "      <td>103.55</td>\n",
       "      <td>583.68</td>\n",
       "      <td>17117.69</td>\n",
       "      <td>60</td>\n",
       "      <td>0.0702</td>\n",
       "      <td>Toyota Sienna</td>\n",
       "    </tr>\n",
       "    <tr>\n",
       "      <th>33</th>\n",
       "      <td>34</td>\n",
       "      <td>17117.69</td>\n",
       "      <td>687.23</td>\n",
       "      <td>100.13</td>\n",
       "      <td>587.10</td>\n",
       "      <td>16530.59</td>\n",
       "      <td>60</td>\n",
       "      <td>0.0702</td>\n",
       "      <td>Toyota Sienna</td>\n",
       "    </tr>\n",
       "    <tr>\n",
       "      <th>34</th>\n",
       "      <td>35</td>\n",
       "      <td>16530.59</td>\n",
       "      <td>687.23</td>\n",
       "      <td>96.70</td>\n",
       "      <td>590.53</td>\n",
       "      <td>15940.06</td>\n",
       "      <td>60</td>\n",
       "      <td>0.0702</td>\n",
       "      <td>Toyota Sienna</td>\n",
       "    </tr>\n",
       "    <tr>\n",
       "      <th>36</th>\n",
       "      <td>37</td>\n",
       "      <td>15346.07</td>\n",
       "      <td>687.23</td>\n",
       "      <td>89.77</td>\n",
       "      <td>597.46</td>\n",
       "      <td>14748.61</td>\n",
       "      <td>60</td>\n",
       "      <td>0.0702</td>\n",
       "      <td>Toyota Sienna</td>\n",
       "    </tr>\n",
       "    <tr>\n",
       "      <th>37</th>\n",
       "      <td>38</td>\n",
       "      <td>14748.61</td>\n",
       "      <td>687.23</td>\n",
       "      <td>86.27</td>\n",
       "      <td>600.96</td>\n",
       "      <td>14147.65</td>\n",
       "      <td>60</td>\n",
       "      <td>0.0702</td>\n",
       "      <td>Toyota Sienna</td>\n",
       "    </tr>\n",
       "    <tr>\n",
       "      <th>38</th>\n",
       "      <td>39</td>\n",
       "      <td>14147.65</td>\n",
       "      <td>687.23</td>\n",
       "      <td>82.76</td>\n",
       "      <td>604.47</td>\n",
       "      <td>13543.18</td>\n",
       "      <td>60</td>\n",
       "      <td>0.0702</td>\n",
       "      <td>Toyota Sienna</td>\n",
       "    </tr>\n",
       "    <tr>\n",
       "      <th>39</th>\n",
       "      <td>40</td>\n",
       "      <td>13543.18</td>\n",
       "      <td>687.23</td>\n",
       "      <td>79.22</td>\n",
       "      <td>608.01</td>\n",
       "      <td>12935.17</td>\n",
       "      <td>60</td>\n",
       "      <td>0.0702</td>\n",
       "      <td>Toyota Sienna</td>\n",
       "    </tr>\n",
       "  </tbody>\n",
       "</table>\n",
       "</div>"
      ],
      "text/plain": [
       "    Month  Starting Balance  Repayment  Interest Paid  Principal Paid  \\\n",
       "30     31          18858.57     687.23         110.32          576.91   \n",
       "31     32          18281.66     687.23         106.94          580.29   \n",
       "32     33          17701.37     687.23         103.55          583.68   \n",
       "33     34          17117.69     687.23         100.13          587.10   \n",
       "34     35          16530.59     687.23          96.70          590.53   \n",
       "36     37          15346.07     687.23          89.77          597.46   \n",
       "37     38          14748.61     687.23          86.27          600.96   \n",
       "38     39          14147.65     687.23          82.76          604.47   \n",
       "39     40          13543.18     687.23          79.22          608.01   \n",
       "\n",
       "    New Balance  term  interest_rate       car_type  \n",
       "30     18281.66    60         0.0702  Toyota Sienna  \n",
       "31     17701.37    60         0.0702  Toyota Sienna  \n",
       "32     17117.69    60         0.0702  Toyota Sienna  \n",
       "33     16530.59    60         0.0702  Toyota Sienna  \n",
       "34     15940.06    60         0.0702  Toyota Sienna  \n",
       "36     14748.61    60         0.0702  Toyota Sienna  \n",
       "37     14147.65    60         0.0702  Toyota Sienna  \n",
       "38     13543.18    60         0.0702  Toyota Sienna  \n",
       "39     12935.17    60         0.0702  Toyota Sienna  "
      ]
     },
     "execution_count": 5,
     "metadata": {},
     "output_type": "execute_result"
    }
   ],
   "source": [
    "# dropna method\n",
    "#   - This gets the data frame from indexes 30-40, then drops any rows with NaN values\n",
    "df[30:40].dropna(how = 'any')"
   ]
  },
  {
   "cell_type": "markdown",
   "id": "48b9b405-dcde-41a0-a630-24618595e32e",
   "metadata": {},
   "source": [
    "### Fill in missing data"
   ]
  },
  {
   "cell_type": "code",
   "execution_count": 7,
   "id": "9efc5dee-1083-44c0-90dc-e4f6ca3c5d52",
   "metadata": {},
   "outputs": [
    {
     "data": {
      "text/plain": [
       "30    110.32\n",
       "31    106.94\n",
       "32    103.55\n",
       "33    100.13\n",
       "34     96.70\n",
       "35       NaN\n",
       "36     89.77\n",
       "37     86.27\n",
       "38     82.76\n",
       "39     79.22\n",
       "Name: Interest Paid, dtype: float64"
      ]
     },
     "execution_count": 7,
     "metadata": {},
     "output_type": "execute_result"
    }
   ],
   "source": [
    "# Check where the data is missing\n",
    "df['Interest Paid'][30:40]"
   ]
  },
  {
   "cell_type": "markdown",
   "id": "3ec359c5-862d-49b9-ab8d-0af2eec938de",
   "metadata": {},
   "source": [
    "#### Approach 1: Fill the NaN with a zero\n",
    "- NOT recommended as this is an arbitrary value that might skew the data"
   ]
  },
  {
   "cell_type": "code",
   "execution_count": 8,
   "id": "3a825e1b-76c7-4a66-a648-8efc392998b6",
   "metadata": {},
   "outputs": [
    {
     "data": {
      "text/plain": [
       "30    110.32\n",
       "31    106.94\n",
       "32    103.55\n",
       "33    100.13\n",
       "34     96.70\n",
       "35      0.00\n",
       "36     89.77\n",
       "37     86.27\n",
       "38     82.76\n",
       "39     79.22\n",
       "Name: Interest Paid, dtype: float64"
      ]
     },
     "execution_count": 8,
     "metadata": {},
     "output_type": "execute_result"
    }
   ],
   "source": [
    "df['Interest Paid'][30:40].fillna(0)"
   ]
  },
  {
   "cell_type": "markdown",
   "id": "981f0f1d-79e9-4af8-852c-70ae975fbef0",
   "metadata": {},
   "source": [
    "#### Approach 2: Fill the NaN with a back fill\n",
    "- Takes the value from the next index"
   ]
  },
  {
   "cell_type": "code",
   "execution_count": 10,
   "id": "de8db749-4ee5-44d5-bcb6-0391f51d30fa",
   "metadata": {},
   "outputs": [
    {
     "data": {
      "text/plain": [
       "30    110.32\n",
       "31    106.94\n",
       "32    103.55\n",
       "33    100.13\n",
       "34     96.70\n",
       "35     89.77\n",
       "36     89.77\n",
       "37     86.27\n",
       "38     82.76\n",
       "39     79.22\n",
       "Name: Interest Paid, dtype: float64"
      ]
     },
     "execution_count": 10,
     "metadata": {},
     "output_type": "execute_result"
    }
   ],
   "source": [
    "df['Interest Paid'][30:40].bfill()"
   ]
  },
  {
   "cell_type": "markdown",
   "id": "8b55a397-b9ae-4c38-ad98-2062dbc8681d",
   "metadata": {},
   "source": [
    "#### Approach 3: Fill the NaN with a forward fill\n",
    "- Takes the value from the prior index"
   ]
  },
  {
   "cell_type": "code",
   "execution_count": 11,
   "id": "9efd3724-94b4-498a-a60b-3582d2249d15",
   "metadata": {},
   "outputs": [
    {
     "data": {
      "text/plain": [
       "30    110.32\n",
       "31    106.94\n",
       "32    103.55\n",
       "33    100.13\n",
       "34     96.70\n",
       "35     96.70\n",
       "36     89.77\n",
       "37     86.27\n",
       "38     82.76\n",
       "39     79.22\n",
       "Name: Interest Paid, dtype: float64"
      ]
     },
     "execution_count": 11,
     "metadata": {},
     "output_type": "execute_result"
    }
   ],
   "source": [
    "df['Interest Paid'][30:40].ffill()"
   ]
  },
  {
   "cell_type": "code",
   "execution_count": 12,
   "id": "bc899ce5-c230-44e1-80f5-399548692987",
   "metadata": {},
   "outputs": [
    {
     "data": {
      "text/plain": [
       "30    110.320\n",
       "31    106.940\n",
       "32    103.550\n",
       "33    100.130\n",
       "34     96.700\n",
       "35     93.235\n",
       "36     89.770\n",
       "37     86.270\n",
       "38     82.760\n",
       "39     79.220\n",
       "Name: Interest Paid, dtype: float64"
      ]
     },
     "execution_count": 12,
     "metadata": {},
     "output_type": "execute_result"
    }
   ],
   "source": [
    "df['Interest Paid'][30:40].interpolate(method = 'linear')"
   ]
  },
  {
   "cell_type": "markdown",
   "id": "f71d9f37-bf96-4a61-8449-f1eb2714f1ea",
   "metadata": {},
   "source": [
    "#### Approach 5: Fill the NaN with a hardcoded value\n",
    "- Recommended if you know what the value should have been, as that will be the most accurate"
   ]
  },
  {
   "cell_type": "code",
   "execution_count": 13,
   "id": "e8505df7-3ba2-4d6d-9037-c6b187e62a5d",
   "metadata": {},
   "outputs": [],
   "source": [
    "# Create a filter for the missing values\n",
    "interest_missing = df['Interest Paid'].isna()\n",
    "\n",
    "# Fill any missing data with this value\n",
    "df.loc[interest_missing, 'Interest Paid'] = 93.24"
   ]
  },
  {
   "cell_type": "code",
   "execution_count": 15,
   "id": "50e653ed-de5a-4203-a18f-9968e9399676",
   "metadata": {},
   "outputs": [
    {
     "name": "stdout",
     "output_type": "stream",
     "text": [
      "<class 'pandas.core.frame.DataFrame'>\n",
      "Index: 60 entries, 0 to 59\n",
      "Data columns (total 9 columns):\n",
      " #   Column            Non-Null Count  Dtype  \n",
      "---  ------            --------------  -----  \n",
      " 0   Month             60 non-null     int64  \n",
      " 1   Starting Balance  60 non-null     float64\n",
      " 2   Repayment         60 non-null     float64\n",
      " 3   Interest Paid     60 non-null     float64\n",
      " 4   Principal Paid    60 non-null     float64\n",
      " 5   New Balance       60 non-null     float64\n",
      " 6   term              60 non-null     int64  \n",
      " 7   interest_rate     60 non-null     float64\n",
      " 8   car_type          60 non-null     object \n",
      "dtypes: float64(6), int64(2), object(1)\n",
      "memory usage: 4.7+ KB\n"
     ]
    }
   ],
   "source": [
    "# Now there is no more missing data\n",
    "df.info()"
   ]
  }
 ],
 "metadata": {
  "kernelspec": {
   "display_name": "Python 3 (ipykernel)",
   "language": "python",
   "name": "python3"
  },
  "language_info": {
   "codemirror_mode": {
    "name": "ipython",
    "version": 3
   },
   "file_extension": ".py",
   "mimetype": "text/x-python",
   "name": "python",
   "nbconvert_exporter": "python",
   "pygments_lexer": "ipython3",
   "version": "3.13.5"
  }
 },
 "nbformat": 4,
 "nbformat_minor": 5
}
